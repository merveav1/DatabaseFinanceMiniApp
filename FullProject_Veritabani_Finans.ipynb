{
 "cells": [
  {
   "cell_type": "markdown",
   "id": "ca31a41e",
   "metadata": {},
   "source": [
    "# 📊 Çok Bileşenli Python Projesi: Veritabanı + Finansal Modelleme"
   ]
  },
  {
   "cell_type": "markdown",
   "id": "a02f1a07",
   "metadata": {},
   "source": [
    "Bu projede hem **SQL veritabanı uygulamaları**, hem de **Avrupa tipi bariyer opsiyon fiyatlaması** gibi finansal modelleme örnekleri yer almaktadır."
   ]
  },
  {
   "cell_type": "markdown",
   "id": "a814705c",
   "metadata": {},
   "source": [
    "## 🗃️ SQL Veritabanı Bağlantısı ve Temel İşlemler"
   ]
  },
  {
   "cell_type": "code",
   "execution_count": null,
   "id": "01657b68",
   "metadata": {},
   "outputs": [],
   "source": [
    "\n",
    "import pypyodbc\n",
    "\n",
    "conn = pypyodbc.connect(\"Driver={SQL Server};Server=.;Database=TestDB;Trusted_Connection=yes;\")\n",
    "cursor = conn.cursor()\n"
   ]
  },
  {
   "cell_type": "code",
   "execution_count": null,
   "id": "065c7d0b",
   "metadata": {},
   "outputs": [],
   "source": [
    "\n",
    "cursor.execute(\"\"\"\n",
    "CREATE TABLE Personel (\n",
    "    ID INT PRIMARY KEY,\n",
    "    Name NVARCHAR(50),\n",
    "    Age INT\n",
    ")\n",
    "\"\"\")\n",
    "conn.commit()\n"
   ]
  },
  {
   "cell_type": "code",
   "execution_count": null,
   "id": "a04e6a7c",
   "metadata": {},
   "outputs": [],
   "source": [
    "\n",
    "cursor.execute(\"INSERT INTO Personel (ID, Name, Age) VALUES (?, ?, ?)\", (1, 'Merve', 27))\n",
    "cursor.execute(\"INSERT INTO Personel (ID, Name, Age) VALUES (?, ?, ?)\", (2, 'Ahmet', 30))\n",
    "conn.commit()\n"
   ]
  },
  {
   "cell_type": "code",
   "execution_count": null,
   "id": "259268c1",
   "metadata": {},
   "outputs": [],
   "source": [
    "\n",
    "cursor.execute(\"SELECT * FROM Personel\")\n",
    "rows = cursor.fetchall()\n",
    "for row in rows:\n",
    "    print(row)\n"
   ]
  },
  {
   "cell_type": "code",
   "execution_count": null,
   "id": "e91fbce6",
   "metadata": {},
   "outputs": [],
   "source": [
    "\n",
    "cursor.execute(\"UPDATE Personel SET Age = ? WHERE ID = ?\", (31, 2))\n",
    "conn.commit()\n"
   ]
  },
  {
   "cell_type": "code",
   "execution_count": null,
   "id": "708a819b",
   "metadata": {},
   "outputs": [],
   "source": [
    "\n",
    "cursor.execute(\"DELETE FROM Personel WHERE ID = ?\", (1,))\n",
    "conn.commit()\n",
    "conn.close()\n"
   ]
  },
  {
   "cell_type": "markdown",
   "id": "3f76171c",
   "metadata": {},
   "source": [
    "## 💹 Avrupa Tipi Bariyer Opsiyon Modeli (Simülasyon)"
   ]
  },
  {
   "cell_type": "code",
   "execution_count": null,
   "id": "f86cc84b",
   "metadata": {},
   "outputs": [],
   "source": [
    "\n",
    "import numpy as np\n",
    "import matplotlib.pyplot as plt\n",
    "\n",
    "S0 = 100      # Başlangıç fiyatı\n",
    "K = 100       # Kullanım fiyatı\n",
    "T = 1         # Vade\n",
    "r = 0.05      # Risksiz faiz oranı\n",
    "sigma = 0.2   # Volatilite\n",
    "H = 120       # Bariyer seviyesi\n",
    "n = 10000     # Simülasyon sayısı\n",
    "\n",
    "np.random.seed(42)\n",
    "Z = np.random.randn(n)\n",
    "ST = S0 * np.exp((r - 0.5 * sigma**2) * T + sigma * np.sqrt(T) * Z)\n",
    "payoffs = np.where(ST < H, np.maximum(ST - K, 0), 0)\n",
    "option_price = np.exp(-r * T) * np.mean(payoffs)\n",
    "print(f\"Avrupa Tipi Bariyer Opsiyon Fiyatı: {option_price:.2f}\")\n",
    "\n",
    "plt.hist(ST, bins=50, alpha=0.7)\n",
    "plt.title(\"Opsiyon Vade Sonu Fiyat Dağılımı\")\n",
    "plt.xlabel(\"Fiyat\")\n",
    "plt.ylabel(\"Frekans\")\n",
    "plt.grid(True)\n",
    "plt.show()\n"
   ]
  }
 ],
 "metadata": {
  "kernelspec": {
   "display_name": "Python 3 (ipykernel)",
   "language": "python",
   "name": "python3"
  },
  "language_info": {
   "codemirror_mode": {
    "name": "ipython",
    "version": 3
   },
   "file_extension": ".py",
   "mimetype": "text/x-python",
   "name": "python",
   "nbconvert_exporter": "python",
   "pygments_lexer": "ipython3",
   "version": "3.9.13"
  }
 },
 "nbformat": 4,
 "nbformat_minor": 5
}
